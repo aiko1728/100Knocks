{
  "nbformat": 4,
  "nbformat_minor": 0,
  "metadata": {
    "colab": {
      "name": "第1章.ipynb",
      "provenance": [],
      "authorship_tag": "ABX9TyMfHbwJQxfn9Kqyb6vX2Y3n"
    },
    "kernelspec": {
      "name": "python3",
      "display_name": "Python 3"
    },
    "language_info": {
      "name": "python"
    }
  },
  "cells": [
    {
      "cell_type": "code",
      "metadata": {
        "colab": {
          "base_uri": "https://localhost:8080/"
        },
        "id": "D815n2Ntbwku",
        "outputId": "07cfabd8-b4e1-49d9-b760-c5faf7a95c97"
      },
      "source": [
        "\"\"\"\n",
        "問題文\n",
        "\"\"\"\n",
        "def py00():\n",
        "    # 関数\n",
        "    print(\"a\")\n",
        "\n",
        "py00()"
      ],
      "execution_count": null,
      "outputs": [
        {
          "output_type": "stream",
          "name": "stdout",
          "text": [
            "a\n"
          ]
        }
      ]
    }
  ]
}